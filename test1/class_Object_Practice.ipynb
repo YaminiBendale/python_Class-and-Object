{
  "nbformat": 4,
  "nbformat_minor": 0,
  "metadata": {
    "colab": {
      "name": "class Object Practice.ipynb",
      "provenance": [],
      "collapsed_sections": [],
      "authorship_tag": "ABX9TyMEUHR/wnvsO7+Ak+gCoVc8",
      "include_colab_link": true
    },
    "kernelspec": {
      "name": "python3",
      "display_name": "Python 3"
    },
    "language_info": {
      "name": "python"
    }
  },
  "cells": [
    {
      "cell_type": "markdown",
      "metadata": {
        "id": "view-in-github",
        "colab_type": "text"
      },
      "source": [
        "<a href=\"https://colab.research.google.com/github/YaminiBendale/python_Class-and-Object/blob/pythonbranch/test1/class_Object_Practice.ipynb\" target=\"_parent\"><img src=\"https://colab.research.google.com/assets/colab-badge.svg\" alt=\"Open In Colab\"/></a>"
      ]
    },
    {
      "cell_type": "code",
      "metadata": {
        "colab": {
          "base_uri": "https://localhost:8080/"
        },
        "id": "VK7_N7FIMpaZ",
        "outputId": "61530833-ec82-4ff5-a437-7c7d7c527e84"
      },
      "source": [
        "# class  and object example\n",
        "\n",
        "class employee:\n",
        "  def __init__(self,fname,lname,age,sal):\n",
        "    self.fname=fname\n",
        "    self.lname=lname\n",
        "    self.age=age\n",
        "    self.sal=sal\n",
        "\n",
        "emp1=employee('rahul','bendale',33,50000)\n",
        "emp2=employee('yamini','bendale',28,25000)\n",
        "print(emp1.fname)\n",
        "print(emp1.lname)\n",
        "print(emp2.fname)\n",
        "print(emp2.lname)\n"
      ],
      "execution_count": null,
      "outputs": [
        {
          "output_type": "stream",
          "text": [
            "rahul\n",
            "bendale\n",
            "yamini\n",
            "bendale\n"
          ],
          "name": "stdout"
        }
      ]
    },
    {
      "cell_type": "code",
      "metadata": {
        "colab": {
          "base_uri": "https://localhost:8080/"
        },
        "id": "c3-sCRLjWv2x",
        "outputId": "9be206c5-cee6-4f8f-92bf-ea3ff2285f66"
      },
      "source": [
        "# class attribute and # class object attribute example\n",
        "\n",
        "class employee:\n",
        "  ''' class Employee '''\n",
        "\n",
        "  org ='Edubridge'         #class attribute -outsite te constructor\n",
        "\n",
        "  def __init__(self,fname,lname,age,sal):            #instance /class object attribute example\n",
        "    self.fname=fname\n",
        "    self.lname=lname\n",
        "    self.age=age\n",
        "    self.sal=sal\n",
        "\n",
        "emp1=employee('rahul','bendale',33,50000)\n",
        "emp2=employee('yamini','bendale',28,25000)\n",
        "\n",
        "print(emp1.org)\n",
        "print(emp2.org)\n",
        "\n"
      ],
      "execution_count": null,
      "outputs": [
        {
          "output_type": "stream",
          "text": [
            "Edubridge\n",
            "Edubridge\n"
          ],
          "name": "stdout"
        }
      ]
    },
    {
      "cell_type": "code",
      "metadata": {
        "colab": {
          "base_uri": "https://localhost:8080/"
        },
        "id": "dqmbZFGyY4AI",
        "outputId": "0468181b-63f7-4367-f8fd-0d33eae15914"
      },
      "source": [
        "print(dir(employee))\n"
      ],
      "execution_count": null,
      "outputs": [
        {
          "output_type": "stream",
          "text": [
            "['__class__', '__delattr__', '__dict__', '__dir__', '__doc__', '__eq__', '__format__', '__ge__', '__getattribute__', '__gt__', '__hash__', '__init__', '__init_subclass__', '__le__', '__lt__', '__module__', '__ne__', '__new__', '__reduce__', '__reduce_ex__', '__repr__', '__setattr__', '__sizeof__', '__str__', '__subclasshook__', '__weakref__', 'org']\n"
          ],
          "name": "stdout"
        }
      ]
    },
    {
      "cell_type": "code",
      "metadata": {
        "colab": {
          "base_uri": "https://localhost:8080/"
        },
        "id": "BO_HA5KzY3r7",
        "outputId": "d16ecad1-97f2-475d-c9f6-d2435d7bd9ca"
      },
      "source": [
        "emp1.__dict__"
      ],
      "execution_count": null,
      "outputs": [
        {
          "output_type": "execute_result",
          "data": {
            "text/plain": [
              "{'age': 33, 'fname': 'rahul', 'lname': 'bendale', 'sal': 50000}"
            ]
          },
          "metadata": {
            "tags": []
          },
          "execution_count": 6
        }
      ]
    },
    {
      "cell_type": "code",
      "metadata": {
        "colab": {
          "base_uri": "https://localhost:8080/",
          "height": 35
        },
        "id": "5alo4IpFZ1HJ",
        "outputId": "c881e626-1ae5-4845-d6c0-80f48e7c1493"
      },
      "source": [
        "emp1.__doc__"
      ],
      "execution_count": null,
      "outputs": [
        {
          "output_type": "execute_result",
          "data": {
            "application/vnd.google.colaboratory.intrinsic+json": {
              "type": "string"
            },
            "text/plain": [
              "' class Employee '"
            ]
          },
          "metadata": {
            "tags": []
          },
          "execution_count": 13
        }
      ]
    },
    {
      "cell_type": "code",
      "metadata": {
        "colab": {
          "base_uri": "https://localhost:8080/"
        },
        "id": "S_ij3dg0Z09H",
        "outputId": "d4fcf23e-d0e8-43d2-beed-a908de44294b"
      },
      "source": [
        "type(emp1)\n",
        "emp1.__class__\n"
      ],
      "execution_count": null,
      "outputs": [
        {
          "output_type": "execute_result",
          "data": {
            "text/plain": [
              "__main__.employee"
            ]
          },
          "metadata": {
            "tags": []
          },
          "execution_count": 14
        }
      ]
    },
    {
      "cell_type": "code",
      "metadata": {
        "id": "rBm2JVNhZ0uI"
      },
      "source": [
        "#functions present inside a class is called as method\n",
        "class employee:\n",
        "  ''' class Employee '''\n",
        "\n",
        "  org ='Edubridge'         #class attribute -outsite te constructor\n",
        "\n",
        "  def __init__(self,fname,lname,age,sal):            #instance /class object attribute example\n",
        "    self.fname=fname\n",
        "    self.lname=lname\n",
        "    self.age=age\n",
        "    self.sal=sal\n",
        "\n",
        "  def generatemail(self,num):\n",
        "    return f'{self.lname}.{num}{self.fname}@{employee.org}.com'\n",
        "\n",
        "  def increment(self,p):\n",
        "    return self.sal + (self.sal*p)\n"
      ],
      "execution_count": null,
      "outputs": []
    },
    {
      "cell_type": "code",
      "metadata": {
        "id": "9otEmyNcZ0fZ"
      },
      "source": [
        "emp1=employee('rahul','bendale',33,50000)\n",
        "emp2=employee('yamini','bendale',28,25000)"
      ],
      "execution_count": null,
      "outputs": []
    },
    {
      "cell_type": "code",
      "metadata": {
        "colab": {
          "base_uri": "https://localhost:8080/",
          "height": 35
        },
        "id": "e3iSZaCsZ0Q0",
        "outputId": "b518967f-789b-4e62-f3ec-2fc86dd0ba38"
      },
      "source": [
        "emp1.generatemail(7)\n"
      ],
      "execution_count": null,
      "outputs": [
        {
          "output_type": "execute_result",
          "data": {
            "application/vnd.google.colaboratory.intrinsic+json": {
              "type": "string"
            },
            "text/plain": [
              "'bendale.7rahul@Edubridge.com'"
            ]
          },
          "metadata": {
            "tags": []
          },
          "execution_count": 29
        }
      ]
    },
    {
      "cell_type": "code",
      "metadata": {
        "colab": {
          "base_uri": "https://localhost:8080/"
        },
        "id": "cJWFLiWOZ0Iu",
        "outputId": "b95bc181-832f-4ee3-8561-13c59bcd4be5"
      },
      "source": [
        "emp1.increment(.1)\n"
      ],
      "execution_count": null,
      "outputs": [
        {
          "output_type": "execute_result",
          "data": {
            "text/plain": [
              "55000.0"
            ]
          },
          "metadata": {
            "tags": []
          },
          "execution_count": 35
        }
      ]
    },
    {
      "cell_type": "code",
      "metadata": {
        "id": "SF4aZW5oZ0BS"
      },
      "source": [
        "class Car:\n",
        "  Brand = 'Maruti'         \n",
        "  def __init__(self,colour,milaege,seat):      \n",
        "    self.colour=colour\n",
        "    self.milaege=milaege\n",
        "    self.seat=seat"
      ],
      "execution_count": null,
      "outputs": []
    },
    {
      "cell_type": "code",
      "metadata": {
        "colab": {
          "base_uri": "https://localhost:8080/"
        },
        "id": "i6ybL851Zz6-",
        "outputId": "f6292e0f-c93e-4c36-f731-788b60d3439d"
      },
      "source": [
        "Car1 = Car('red',24,5)\n",
        "Car2 = Car('green',45,7)\n",
        "\n",
        "print(Car1.colour)\n",
        "print(Car1.milaege)\n",
        "print(Car2.colour)\n",
        "print(Car2.seat)"
      ],
      "execution_count": null,
      "outputs": [
        {
          "output_type": "stream",
          "text": [
            "red\n",
            "24\n",
            "green\n",
            "7\n"
          ],
          "name": "stdout"
        }
      ]
    }
  ]
}